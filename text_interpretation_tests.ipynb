{
 "cells": [
  {
   "cell_type": "code",
   "execution_count": 1,
   "metadata": {},
   "outputs": [],
   "source": [
    "%matplotlib inline"
   ]
  },
  {
   "cell_type": "code",
   "execution_count": 2,
   "metadata": {},
   "outputs": [],
   "source": [
    "import pandas as pd\n",
    "import re"
   ]
  },
  {
   "cell_type": "code",
   "execution_count": 3,
   "metadata": {},
   "outputs": [],
   "source": [
    "import lime_sk\n",
    "import text_processing\n",
    "import sklearn\n",
    "import numpy as np\n",
    "import sklearn\n",
    "import sklearn.ensemble\n",
    "import sklearn.metrics\n",
    "from sklearn.naive_bayes import MultinomialNB\n",
    "#from pprint import pprint"
   ]
  },
  {
   "cell_type": "code",
   "execution_count": 4,
   "metadata": {},
   "outputs": [],
   "source": [
    "from sklearn.metrics import confusion_matrix, roc_curve, precision_recall_curve, auc\n",
    "from sklearn.metrics import f1_score, accuracy_score, average_precision_score"
   ]
  },
  {
   "cell_type": "code",
   "execution_count": 5,
   "metadata": {},
   "outputs": [],
   "source": [
    "import matplotlib.pyplot as plt"
   ]
  },
  {
   "cell_type": "code",
   "execution_count": 6,
   "metadata": {},
   "outputs": [],
   "source": [
    "from sklearn.datasets import fetch_20newsgroups"
   ]
  },
  {
   "cell_type": "code",
   "execution_count": 7,
   "metadata": {},
   "outputs": [],
   "source": [
    "categories = ['alt.atheism', 'soc.religion.christian']\n",
    "newsgroups_train = fetch_20newsgroups(subset='train', categories=categories)\n",
    "newsgroups_test = fetch_20newsgroups(subset='test', categories=categories)\n",
    "class_names = ['atheism', 'christian']"
   ]
  },
  {
   "cell_type": "code",
   "execution_count": 8,
   "metadata": {},
   "outputs": [],
   "source": [
    "vectorizer = sklearn.feature_extraction.text.TfidfVectorizer(lowercase=False)\n",
    "train_vectors = vectorizer.fit_transform(newsgroups_train.data)\n",
    "test_vectors = vectorizer.transform(newsgroups_test.data)"
   ]
  },
  {
   "cell_type": "code",
   "execution_count": 9,
   "metadata": {},
   "outputs": [
    {
     "data": {
      "text/plain": [
       "RandomForestClassifier(bootstrap=True, class_weight=None, criterion='gini',\n",
       "            max_depth=None, max_features='auto', max_leaf_nodes=None,\n",
       "            min_impurity_decrease=0.0, min_impurity_split=None,\n",
       "            min_samples_leaf=1, min_samples_split=2,\n",
       "            min_weight_fraction_leaf=0.0, n_estimators=500, n_jobs=None,\n",
       "            oob_score=False, random_state=None, verbose=0,\n",
       "            warm_start=False)"
      ]
     },
     "execution_count": 9,
     "metadata": {},
     "output_type": "execute_result"
    }
   ],
   "source": [
    "rf = sklearn.ensemble.RandomForestClassifier(n_estimators=500)\n",
    "rf.fit(train_vectors, newsgroups_train.target)"
   ]
  },
  {
   "cell_type": "code",
   "execution_count": 10,
   "metadata": {},
   "outputs": [
    {
     "data": {
      "text/plain": [
       "0.9187935034802783"
      ]
     },
     "execution_count": 10,
     "metadata": {},
     "output_type": "execute_result"
    }
   ],
   "source": [
    "pred = rf.predict(test_vectors)\n",
    "sklearn.metrics.f1_score(newsgroups_test.target, pred, average='binary')"
   ]
  },
  {
   "cell_type": "code",
   "execution_count": 11,
   "metadata": {},
   "outputs": [
    {
     "name": "stdout",
     "output_type": "stream",
     "text": [
      "label: 0 \n",
      "proba: 0.574\n"
     ]
    }
   ],
   "source": [
    "idx = 83\n",
    "instance = test_vectors[idx]\n",
    "label = rf.predict(instance)[0]\n",
    "print('label:', label, '\\nproba:', rf.predict_proba(instance)[0][label])"
   ]
  },
  {
   "cell_type": "code",
   "execution_count": 12,
   "metadata": {},
   "outputs": [
    {
     "data": {
      "text/plain": [
       "array([[0.574, 0.426]])"
      ]
     },
     "execution_count": 12,
     "metadata": {},
     "output_type": "execute_result"
    }
   ],
   "source": [
    "rf.predict_proba(instance)"
   ]
  },
  {
   "cell_type": "code",
   "execution_count": 13,
   "metadata": {},
   "outputs": [],
   "source": [
    "explainer = text_processing.TextExplainer(distance='cosine', kernel_width=3.)"
   ]
  },
  {
   "cell_type": "code",
   "execution_count": 14,
   "metadata": {},
   "outputs": [],
   "source": [
    "explanation = explainer.explain_prediction(instance, label, np.array(vectorizer.get_feature_names()), \n",
    "                                           rf, num_features=6, num_samples=1000)#, random_seed=42)"
   ]
  },
  {
   "cell_type": "code",
   "execution_count": 15,
   "metadata": {},
   "outputs": [
    {
     "data": {
      "text/plain": [
       "[('Host', 0.1655981435632738),\n",
       " ('Posting', 0.15570712653754556),\n",
       " ('NNTP', 0.12846604320278074),\n",
       " ('edu', 0.04061528162139006),\n",
       " ('University', -0.016571578155522973),\n",
       " ('Lines', -0.011665177545309564)]"
      ]
     },
     "execution_count": 15,
     "metadata": {},
     "output_type": "execute_result"
    }
   ],
   "source": [
    "explanation.local_explanation"
   ]
  },
  {
   "cell_type": "code",
   "execution_count": 16,
   "metadata": {},
   "outputs": [
    {
     "data": {
      "text/plain": [
       "0.9870331479234316"
      ]
     },
     "execution_count": 16,
     "metadata": {},
     "output_type": "execute_result"
    }
   ],
   "source": [
    "explanation.score"
   ]
  },
  {
   "cell_type": "code",
   "execution_count": 17,
   "metadata": {},
   "outputs": [
    {
     "data": {
      "image/png": "[encoded data removed]",
      "text/plain": [
       "<Figure size 432x288 with 1 Axes>"
      ]
     },
     "metadata": {
      "needs_background": "light"
     },
     "output_type": "display_data"
    }
   ],
   "source": [
    "explanation.as_figure(class_names[label])"
   ]
  },
  {
   "cell_type": "markdown",
   "metadata": {},
   "source": [
    "## Removing stopwords from 20newsdataset"
   ]
  },
  {
   "cell_type": "code",
   "execution_count": 32,
   "metadata": {},
   "outputs": [
    {
     "name": "stdout",
     "output_type": "stream",
     "text": [
      "[nltk_data] Downloading package stopwords to\n",
      "[nltk_data]     C:\\Users\\anna.gubanova\\AppData\\Roaming\\nltk_data...\n",
      "[nltk_data]   Package stopwords is already up-to-date!\n"
     ]
    }
   ],
   "source": [
    "from nltk.corpus import stopwords\n",
    "import nltk\n",
    "nltk.download('stopwords')\n",
    "mystopwords = stopwords.words('english')"
   ]
  },
  {
   "cell_type": "code",
   "execution_count": 25,
   "metadata": {},
   "outputs": [
    {
     "data": {
      "text/html": [
       "<div>\n",
       "<style scoped>\n",
       "    .dataframe tbody tr th:only-of-type {\n",
       "        vertical-align: middle;\n",
       "    }\n",
       "\n",
       "    .dataframe tbody tr th {\n",
       "        vertical-align: top;\n",
       "    }\n",
       "\n",
       "    .dataframe thead th {\n",
       "        text-align: right;\n",
       "    }\n",
       "</style>\n",
       "<table border=\"1\" class=\"dataframe\">\n",
       "  <thead>\n",
       "    <tr style=\"text-align: right;\">\n",
       "      <th></th>\n",
       "      <th>category</th>\n",
       "      <th>data</th>\n",
       "    </tr>\n",
       "  </thead>\n",
       "  <tbody>\n",
       "    <tr>\n",
       "      <th>0</th>\n",
       "      <td>soc.religion.christian</td>\n",
       "      <td>From: nigel.allen@canrem.com (Nigel Allen)\\nSu...</td>\n",
       "    </tr>\n",
       "    <tr>\n",
       "      <th>1</th>\n",
       "      <td>alt.atheism</td>\n",
       "      <td>From: marshall@csugrad.cs.vt.edu (Kevin Marsha...</td>\n",
       "    </tr>\n",
       "    <tr>\n",
       "      <th>2</th>\n",
       "      <td>soc.religion.christian</td>\n",
       "      <td>From: tedr@athena.cs.uga.edu (Ted Kalivoda)\\nS...</td>\n",
       "    </tr>\n",
       "    <tr>\n",
       "      <th>3</th>\n",
       "      <td>alt.atheism</td>\n",
       "      <td>From: keith@cco.caltech.edu (Keith Allan Schne...</td>\n",
       "    </tr>\n",
       "    <tr>\n",
       "      <th>4</th>\n",
       "      <td>soc.religion.christian</td>\n",
       "      <td>From: mayne@ds3.scri.fsu.edu (Bill Mayne)\\nSub...</td>\n",
       "    </tr>\n",
       "  </tbody>\n",
       "</table>\n",
       "</div>"
      ],
      "text/plain": [
       "                 category                                               data\n",
       "0  soc.religion.christian  From: nigel.allen@canrem.com (Nigel Allen)\\nSu...\n",
       "1             alt.atheism  From: marshall@csugrad.cs.vt.edu (Kevin Marsha...\n",
       "2  soc.religion.christian  From: tedr@athena.cs.uga.edu (Ted Kalivoda)\\nS...\n",
       "3             alt.atheism  From: keith@cco.caltech.edu (Keith Allan Schne...\n",
       "4  soc.religion.christian  From: mayne@ds3.scri.fsu.edu (Bill Mayne)\\nSub..."
      ]
     },
     "execution_count": 25,
     "metadata": {},
     "output_type": "execute_result"
    }
   ],
   "source": [
    "df_train = pd.DataFrame({\n",
    "    'category': [newsgroups_train.target_names[i] for i in newsgroups_train.target],\n",
    "    'data': [text for text in newsgroups_train.data],\n",
    "}, columns=['category', 'data'])\n",
    "\n",
    "df_train.head()"
   ]
  },
  {
   "cell_type": "code",
   "execution_count": 133,
   "metadata": {},
   "outputs": [
    {
     "data": {
      "text/html": [
       "<div>\n",
       "<style scoped>\n",
       "    .dataframe tbody tr th:only-of-type {\n",
       "        vertical-align: middle;\n",
       "    }\n",
       "\n",
       "    .dataframe tbody tr th {\n",
       "        vertical-align: top;\n",
       "    }\n",
       "\n",
       "    .dataframe thead th {\n",
       "        text-align: right;\n",
       "    }\n",
       "</style>\n",
       "<table border=\"1\" class=\"dataframe\">\n",
       "  <thead>\n",
       "    <tr style=\"text-align: right;\">\n",
       "      <th></th>\n",
       "      <th>category</th>\n",
       "      <th>data</th>\n",
       "    </tr>\n",
       "  </thead>\n",
       "  <tbody>\n",
       "    <tr>\n",
       "      <th>0</th>\n",
       "      <td>soc.religion.christian</td>\n",
       "      <td>From: crackle!dabbott@munnari.oz.au (NAME)\\nSu...</td>\n",
       "    </tr>\n",
       "    <tr>\n",
       "      <th>1</th>\n",
       "      <td>soc.religion.christian</td>\n",
       "      <td>From: tdarcos@access.digex.net (Paul Robinson)...</td>\n",
       "    </tr>\n",
       "    <tr>\n",
       "      <th>2</th>\n",
       "      <td>alt.atheism</td>\n",
       "      <td>From: madhaus@netcom.com (Maddi Hausmann)\\nSub...</td>\n",
       "    </tr>\n",
       "    <tr>\n",
       "      <th>3</th>\n",
       "      <td>soc.religion.christian</td>\n",
       "      <td>From: mls@panix.com (Michael Siemon)\\nSubject:...</td>\n",
       "    </tr>\n",
       "    <tr>\n",
       "      <th>4</th>\n",
       "      <td>alt.atheism</td>\n",
       "      <td>From: salem@pangea.Stanford.EDU (Bruce Salem)\\...</td>\n",
       "    </tr>\n",
       "  </tbody>\n",
       "</table>\n",
       "</div>"
      ],
      "text/plain": [
       "                 category                                               data\n",
       "0  soc.religion.christian  From: crackle!dabbott@munnari.oz.au (NAME)\\nSu...\n",
       "1  soc.religion.christian  From: tdarcos@access.digex.net (Paul Robinson)...\n",
       "2             alt.atheism  From: madhaus@netcom.com (Maddi Hausmann)\\nSub...\n",
       "3  soc.religion.christian  From: mls@panix.com (Michael Siemon)\\nSubject:...\n",
       "4             alt.atheism  From: salem@pangea.Stanford.EDU (Bruce Salem)\\..."
      ]
     },
     "execution_count": 133,
     "metadata": {},
     "output_type": "execute_result"
    }
   ],
   "source": [
    "df_test = pd.DataFrame({\n",
    "    'category': [newsgroups_test.target_names[i] for i in newsgroups_test.target],\n",
    "    'data': [text for text in newsgroups_test.data],\n",
    "}, columns=['category', 'data'])\n",
    "\n",
    "df_test.head()"
   ]
  },
  {
   "cell_type": "code",
   "execution_count": null,
   "metadata": {},
   "outputs": [],
   "source": [
    "tokens_train = [' '.join(s.lower().split()) for s in df_train.data.tolist()]\n",
    "tokens_train = [' '.join(re.findall('[A-Za-z]+', s)) for s in tokens_train]\n",
    "df_train['tokens'] = tokens_train\n",
    "df_train['category'][df_train['category'] == 'soc.religion.christian'] = 1\n",
    "df_train['category'][df_train['category'] == 'alt.atheism'] = 0\n",
    "df_train['top_tokens'] = tokens_train"
   ]
  },
  {
   "cell_type": "code",
   "execution_count": null,
   "metadata": {},
   "outputs": [],
   "source": [
    "for i in range(df_train.shape[0]):\n",
    "    df_train['top_tokens'][i] = ' '.join(list(set(df_train['tokens'][i].split()) - set(mystopwords)))"
   ]
  },
  {
   "cell_type": "code",
   "execution_count": 134,
   "metadata": {
    "colab": {
     "base_uri": "https://localhost:8080/",
     "height": 56
    },
    "colab_type": "code",
    "id": "OHPsxs9dDS4s",
    "outputId": "3b39723a-6ba3-4d46-8279-a1686524af1a"
   },
   "outputs": [],
   "source": [
    "tokens_test = [' '.join(s.lower().split()) for s in df_test.data.tolist()]\n",
    "tokens_test = [' '.join(re.findall('[A-Za-z]+', s)) for s in tokens_test]\n",
    "df_test['tokens'] = tokens_test\n",
    "df_test['category'][df_test['category'] == 'soc.religion.christian'] = 1\n",
    "df_test['category'][df_test['category'] == 'alt.atheism'] = 0\n",
    "df_test['top_tokens'] = tokens_test"
   ]
  },
  {
   "cell_type": "code",
   "execution_count": 139,
   "metadata": {
    "scrolled": true
   },
   "outputs": [],
   "source": [
    "for i in range(df_test.shape[0]):\n",
    "    df_test['top_tokens'][i] = ' '.join(list(set(df_test['tokens'][i].split()) - set(mystopwords)))"
   ]
  },
  {
   "cell_type": "code",
   "execution_count": 140,
   "metadata": {},
   "outputs": [],
   "source": [
    "vectorizer = sklearn.feature_extraction.text.TfidfVectorizer(lowercase=False)\n",
    "train_vectors = vectorizer.fit_transform(df_train['top_tokens'])\n",
    "test_vectors = vectorizer.transform(df_test['top_tokens'])"
   ]
  },
  {
   "cell_type": "code",
   "execution_count": 155,
   "metadata": {},
   "outputs": [
    {
     "data": {
      "text/plain": [
       "RandomForestClassifier(bootstrap=True, class_weight=None, criterion='gini',\n",
       "            max_depth=None, max_features='auto', max_leaf_nodes=None,\n",
       "            min_impurity_decrease=0.0, min_impurity_split=None,\n",
       "            min_samples_leaf=1, min_samples_split=2,\n",
       "            min_weight_fraction_leaf=0.0, n_estimators=500, n_jobs=None,\n",
       "            oob_score=False, random_state=None, verbose=0,\n",
       "            warm_start=False)"
      ]
     },
     "execution_count": 155,
     "metadata": {},
     "output_type": "execute_result"
    }
   ],
   "source": [
    "rf = sklearn.ensemble.RandomForestClassifier(n_estimators=1000)\n",
    "rf.fit(train_vectors, df.category.values.astype(int))"
   ]
  },
  {
   "cell_type": "code",
   "execution_count": 156,
   "metadata": {},
   "outputs": [
    {
     "data": {
      "text/plain": [
       "0.935064935064935"
      ]
     },
     "execution_count": 156,
     "metadata": {},
     "output_type": "execute_result"
    }
   ],
   "source": [
    "pred = rf.predict(test_vectors)\n",
    "sklearn.metrics.f1_score(df_test.category.values.astype(int), pred, average='binary')"
   ]
  },
  {
   "cell_type": "code",
   "execution_count": 157,
   "metadata": {},
   "outputs": [
    {
     "name": "stdout",
     "output_type": "stream",
     "text": [
      "label: 0 \n",
      "proba: 0.606\n"
     ]
    }
   ],
   "source": [
    "idx = 83\n",
    "instance = test_vectors[idx]\n",
    "label = rf.predict(instance)[0]\n",
    "print('label:', label, '\\nproba:', rf.predict_proba(instance)[0][label])"
   ]
  },
  {
   "cell_type": "code",
   "execution_count": 158,
   "metadata": {},
   "outputs": [
    {
     "data": {
      "text/plain": [
       "array([[0.606, 0.394]])"
      ]
     },
     "execution_count": 158,
     "metadata": {},
     "output_type": "execute_result"
    }
   ],
   "source": [
    "rf.predict_proba(instance)"
   ]
  },
  {
   "cell_type": "code",
   "execution_count": 15,
   "metadata": {},
   "outputs": [],
   "source": [
    "explainer = text_processing.TextExplainer(distance='cosine', kernel_width=3.)"
   ]
  },
  {
   "cell_type": "code",
   "execution_count": 16,
   "metadata": {
    "collapsed": true
   },
   "outputs": [
    {
     "name": "stdout",
     "output_type": "stream",
     "text": [
      "[[ 1.40000000e+01  1.44962121e-01]\n",
      " [ 7.00000000e+00  1.39209813e-01]\n",
      " [ 1.10000000e+01  1.06828670e-01]\n",
      " [ 2.70000000e+01  5.01357168e-02]\n",
      " [ 9.00000000e+00 -9.86519979e-03]\n",
      " [ 1.20000000e+01 -9.57869785e-03]]\n"
     ]
    }
   ],
   "source": [
    "explanation = explainer.explain_prediction(instance, label, np.array(vectorizer.get_feature_names()), \n",
    "                                           rf, num_features=6, num_samples=1000)#, random_seed=42)"
   ]
  },
  {
   "cell_type": "code",
   "execution_count": 17,
   "metadata": {},
   "outputs": [
    {
     "data": {
      "text/plain": [
       "[('Posting', 0.14496212124277064),\n",
       " ('Host', 0.1392098129244738),\n",
       " ('NNTP', 0.10682867028737453),\n",
       " ('edu', 0.05013571676593315),\n",
       " ('Lines', -0.009865199793319433),\n",
       " ('New', -0.009578697845641544)]"
      ]
     },
     "execution_count": 17,
     "metadata": {},
     "output_type": "execute_result"
    }
   ],
   "source": [
    "explanation.local_explanation"
   ]
  },
  {
   "cell_type": "code",
   "execution_count": 18,
   "metadata": {},
   "outputs": [
    {
     "data": {
      "text/plain": [
       "0.9857397390811876"
      ]
     },
     "execution_count": 18,
     "metadata": {},
     "output_type": "execute_result"
    }
   ],
   "source": [
    "explanation.score"
   ]
  },
  {
   "cell_type": "code",
   "execution_count": 19,
   "metadata": {},
   "outputs": [
    {
     "data": {
      "image/png": "[encoded data removed]",
      "text/plain": [
       "<Figure size 432x288 with 1 Axes>"
      ]
     },
     "metadata": {
      "needs_background": "light"
     },
     "output_type": "display_data"
    }
   ],
   "source": [
    "explanation.as_figure(class_names[label])"
   ]
  },
  {
   "cell_type": "markdown",
   "metadata": {},
   "source": [
    "## Example with movie review twits"
   ]
  },
  {
   "cell_type": "code",
   "execution_count": 18,
   "metadata": {},
   "outputs": [],
   "source": [
    "def load_movie_reviews():\n",
    "    # movie_reviews is a sizeable corpus to import, so only load it if we have to\n",
    "    from random import shuffle\n",
    "    import string\n",
    "    import nltk\n",
    "    from nltk.corpus import movie_reviews, stopwords\n",
    "\n",
    "    try:\n",
    "        mystopwords = stopwords.words('english')\n",
    "    except:\n",
    "        nltk.download('stopwords')\n",
    "        mystopwords = stopwords.words('english')\n",
    "        \n",
    "    try:\n",
    "        movie_reviews.categories()\n",
    "    except:\n",
    "        import nltk\n",
    "        print('This appears to be your first time using the NLTK Movie Reviews corpus. We will first download the necessary corpus (this is a one-time download that might take a little while')\n",
    "        nltk.download('movie_reviews')\n",
    "\n",
    "    raw_data = []\n",
    "\n",
    "    # NLTK's corpus is structured in an interesting way\n",
    "    # first iterate through the two categories (pos and neg)\n",
    "    for category in movie_reviews.categories():\n",
    "\n",
    "        if category == 'pos':\n",
    "            pretty_category_name = 'positive'\n",
    "        elif category == 'neg':\n",
    "            pretty_category_name = 'negative'\n",
    "\n",
    "        # each of these categories is just fileids, so grab those\n",
    "        for fileid in movie_reviews.fileids(category):\n",
    "\n",
    "            # then each review is a NLTK class where each item in that class instance is a word\n",
    "            review_words = movie_reviews.words(fileid)\n",
    "            review_text = ''\n",
    "\n",
    "            for word in review_words:\n",
    "                review_text += ' ' + word\n",
    "            \n",
    "            review_text = ' '.join(list(set(review_text.split()) - set(mystopwords) - set(string.punctuation)))\n",
    "\n",
    "            review_dictionary = {\n",
    "                'text': review_text,\n",
    "                'sentiment': pretty_category_name\n",
    "            }\n",
    "\n",
    "            raw_data.append(review_dictionary)\n",
    "    \n",
    "    shuffle(raw_data)\n",
    "    \n",
    "    return raw_data"
   ]
  },
  {
   "cell_type": "code",
   "execution_count": 19,
   "metadata": {},
   "outputs": [],
   "source": [
    "MovieDatabase = load_movie_reviews()\n",
    "df_movies = pd.DataFrame(MovieDatabase, columns=['sentiment', 'text'])"
   ]
  },
  {
   "cell_type": "code",
   "execution_count": 20,
   "metadata": {},
   "outputs": [],
   "source": [
    "movie_classes = ['negative', 'positive']"
   ]
  },
  {
   "cell_type": "code",
   "execution_count": 21,
   "metadata": {},
   "outputs": [],
   "source": [
    "df_movies['sentiment'][df_movies['sentiment'] == 'negative'] = 0\n",
    "df_movies['sentiment'][df_movies['sentiment'] == 'positive'] = 1"
   ]
  },
  {
   "cell_type": "code",
   "execution_count": 192,
   "metadata": {},
   "outputs": [],
   "source": [
    "# frames_train = [df_movies[df_movies['sentiment'] == 0][:750], df_movies[df_movies['sentiment'] == 1][:750]]\n",
    "# df_movies_train = pd.concat(frames_train)"
   ]
  },
  {
   "cell_type": "code",
   "execution_count": 193,
   "metadata": {},
   "outputs": [],
   "source": [
    "# frames_test = [df_movies[df_movies['sentiment'] == 0][750:], df_movies[df_movies['sentiment'] == 1][750:]]\n",
    "# df_movies_test = pd.concat(frames_test)"
   ]
  },
  {
   "cell_type": "code",
   "execution_count": 22,
   "metadata": {},
   "outputs": [],
   "source": [
    "df_movies_train = df_movies[:1500]\n",
    "df_movies_test = df_movies[1500:]"
   ]
  },
  {
   "cell_type": "code",
   "execution_count": 23,
   "metadata": {},
   "outputs": [
    {
     "data": {
      "text/html": [
       "<div>\n",
       "<style scoped>\n",
       "    .dataframe tbody tr th:only-of-type {\n",
       "        vertical-align: middle;\n",
       "    }\n",
       "\n",
       "    .dataframe tbody tr th {\n",
       "        vertical-align: top;\n",
       "    }\n",
       "\n",
       "    .dataframe thead th {\n",
       "        text-align: right;\n",
       "    }\n",
       "</style>\n",
       "<table border=\"1\" class=\"dataframe\">\n",
       "  <thead>\n",
       "    <tr style=\"text-align: right;\">\n",
       "      <th></th>\n",
       "      <th>sentiment</th>\n",
       "      <th>text</th>\n",
       "    </tr>\n",
       "  </thead>\n",
       "  <tbody>\n",
       "    <tr>\n",
       "      <th>1500</th>\n",
       "      <td>1</td>\n",
       "      <td>steal stars done peoples past looks times matt...</td>\n",
       "    </tr>\n",
       "    <tr>\n",
       "      <th>1502</th>\n",
       "      <td>1</td>\n",
       "      <td>king flashy books past become keep jackson red...</td>\n",
       "    </tr>\n",
       "    <tr>\n",
       "      <th>1504</th>\n",
       "      <td>1</td>\n",
       "      <td>rarely planned realism together past times kee...</td>\n",
       "    </tr>\n",
       "    <tr>\n",
       "      <th>1505</th>\n",
       "      <td>1</td>\n",
       "      <td>blows genuine together past looks fails keep u...</td>\n",
       "    </tr>\n",
       "    <tr>\n",
       "      <th>1507</th>\n",
       "      <td>1</td>\n",
       "      <td>myriad home clear revolves rushing red 30 clea...</td>\n",
       "    </tr>\n",
       "  </tbody>\n",
       "</table>\n",
       "</div>"
      ],
      "text/plain": [
       "     sentiment                                               text\n",
       "1500         1  steal stars done peoples past looks times matt...\n",
       "1502         1  king flashy books past become keep jackson red...\n",
       "1504         1  rarely planned realism together past times kee...\n",
       "1505         1  blows genuine together past looks fails keep u...\n",
       "1507         1  myriad home clear revolves rushing red 30 clea..."
      ]
     },
     "execution_count": 23,
     "metadata": {},
     "output_type": "execute_result"
    }
   ],
   "source": [
    "df_movies_test[df_movies_test['sentiment'] == 1].head()"
   ]
  },
  {
   "cell_type": "code",
   "execution_count": 24,
   "metadata": {},
   "outputs": [],
   "source": [
    "vectorizer = sklearn.feature_extraction.text.TfidfVectorizer(lowercase=False)\n",
    "train_vectors = vectorizer.fit_transform(df_movies_train['text'])\n",
    "test_vectors = vectorizer.transform(df_movies_test['text'])"
   ]
  },
  {
   "cell_type": "code",
   "execution_count": 25,
   "metadata": {},
   "outputs": [
    {
     "data": {
      "text/plain": [
       "<1500x35176 sparse matrix of type '<class 'numpy.float64'>'\n",
       "\twith 398318 stored elements in Compressed Sparse Row format>"
      ]
     },
     "execution_count": 25,
     "metadata": {},
     "output_type": "execute_result"
    }
   ],
   "source": [
    "train_vectors"
   ]
  },
  {
   "cell_type": "code",
   "execution_count": 26,
   "metadata": {},
   "outputs": [
    {
     "data": {
      "text/plain": [
       "<500x35176 sparse matrix of type '<class 'numpy.float64'>'\n",
       "\twith 132034 stored elements in Compressed Sparse Row format>"
      ]
     },
     "execution_count": 26,
     "metadata": {},
     "output_type": "execute_result"
    }
   ],
   "source": [
    "test_vectors"
   ]
  },
  {
   "cell_type": "code",
   "execution_count": 28,
   "metadata": {},
   "outputs": [
    {
     "data": {
      "text/plain": [
       "RandomForestClassifier(bootstrap=True, class_weight=None, criterion='gini',\n",
       "            max_depth=None, max_features='auto', max_leaf_nodes=None,\n",
       "            min_impurity_decrease=0.0, min_impurity_split=None,\n",
       "            min_samples_leaf=1, min_samples_split=2,\n",
       "            min_weight_fraction_leaf=0.0, n_estimators=1000, n_jobs=None,\n",
       "            oob_score=False, random_state=42, verbose=0, warm_start=False)"
      ]
     },
     "execution_count": 28,
     "metadata": {},
     "output_type": "execute_result"
    }
   ],
   "source": [
    "rf = sklearn.ensemble.RandomForestClassifier(n_estimators=1000, random_state=42)#, max_depth=6)\n",
    "rf.fit(train_vectors, df_movies_train.sentiment.values.astype(int))"
   ]
  },
  {
   "cell_type": "code",
   "execution_count": 29,
   "metadata": {},
   "outputs": [],
   "source": [
    "train_y = df_movies_train.sentiment.values.astype(int)\n",
    "test_y = df_movies_test.sentiment.values.astype(int)"
   ]
  },
  {
   "cell_type": "code",
   "execution_count": 30,
   "metadata": {},
   "outputs": [
    {
     "data": {
      "text/plain": [
       "0.7912087912087912"
      ]
     },
     "execution_count": 30,
     "metadata": {},
     "output_type": "execute_result"
    }
   ],
   "source": [
    "pred = rf.predict(test_vectors)\n",
    "sklearn.metrics.f1_score(test_y, pred, average='binary')"
   ]
  },
  {
   "cell_type": "code",
   "execution_count": 31,
   "metadata": {},
   "outputs": [],
   "source": [
    "predictions_rf = rf.predict(test_vectors)\n",
    "probabilities_rf = rf.predict_proba(test_vectors)[:,1]\n",
    "false_positive_rates_rf, true_positive_rates_rf, _ = roc_curve(test_y, probabilities_rf)\n",
    "roc_auc_rf = auc(false_positive_rates_rf, true_positive_rates_rf)\n",
    "precision_rf, recall_rf, _ = precision_recall_curve(test_y, probabilities_rf)\n",
    "pr_auc_rf = average_precision_score(test_y, probabilities_rf)\n",
    "f1_rf = f1_score(test_y, predictions_rf, average='binary')"
   ]
  },
  {
   "cell_type": "code",
   "execution_count": 32,
   "metadata": {},
   "outputs": [
    {
     "name": "stdout",
     "output_type": "stream",
     "text": [
      "ROC AUC:  0.9059024944399109\n",
      "PR AUC:  0.894609317566718\n",
      "F1_score:  0.7912087912087912\n"
     ]
    }
   ],
   "source": [
    "print('ROC AUC: ', roc_auc_rf)\n",
    "print('PR AUC: ', pr_auc_rf)\n",
    "print('F1_score: ', f1_rf)"
   ]
  },
  {
   "cell_type": "code",
   "execution_count": 33,
   "metadata": {},
   "outputs": [
    {
     "data": {
      "text/html": [
       "<div>\n",
       "<style scoped>\n",
       "    .dataframe tbody tr th:only-of-type {\n",
       "        vertical-align: middle;\n",
       "    }\n",
       "\n",
       "    .dataframe tbody tr th {\n",
       "        vertical-align: top;\n",
       "    }\n",
       "\n",
       "    .dataframe thead th {\n",
       "        text-align: right;\n",
       "    }\n",
       "</style>\n",
       "<table border=\"1\" class=\"dataframe\">\n",
       "  <thead>\n",
       "    <tr style=\"text-align: right;\">\n",
       "      <th></th>\n",
       "      <th>0</th>\n",
       "      <th>1</th>\n",
       "    </tr>\n",
       "  </thead>\n",
       "  <tbody>\n",
       "    <tr>\n",
       "      <th>0</th>\n",
       "      <td>225</td>\n",
       "      <td>26</td>\n",
       "    </tr>\n",
       "    <tr>\n",
       "      <th>1</th>\n",
       "      <td>69</td>\n",
       "      <td>180</td>\n",
       "    </tr>\n",
       "  </tbody>\n",
       "</table>\n",
       "</div>"
      ],
      "text/plain": [
       "     0    1\n",
       "0  225   26\n",
       "1   69  180"
      ]
     },
     "execution_count": 33,
     "metadata": {},
     "output_type": "execute_result"
    }
   ],
   "source": [
    "pd.DataFrame(confusion_matrix(test_y, predictions_rf))"
   ]
  },
  {
   "cell_type": "code",
   "execution_count": 34,
   "metadata": {
    "scrolled": false
   },
   "outputs": [],
   "source": [
    "# nb = MultinomialNB(alpha=.01)\n",
    "# nb.fit(train_vectors, df_movies_train.sentiment.values.astype(int))"
   ]
  },
  {
   "cell_type": "code",
   "execution_count": 35,
   "metadata": {},
   "outputs": [],
   "source": [
    "# predictions_nb = nb.predict(test_vectors)\n",
    "# probabilities_nb = nb.predict_proba(test_vectors)[:,1]\n",
    "# false_positive_rates_nb, true_positive_rates_nb, _ = roc_curve(test_y, probabilities_nb)\n",
    "# roc_auc_nb = auc(false_positive_rates_nb, true_positive_rates_nb)\n",
    "# precision_nb, recall_nb, _ = precision_recall_curve(test_y, probabilities_nb)\n",
    "# pr_auc_nb = average_precision_score(test_y, probabilities_nb)\n",
    "# f1_nb = f1_score(test_y, predictions_nb)"
   ]
  },
  {
   "cell_type": "code",
   "execution_count": 36,
   "metadata": {},
   "outputs": [],
   "source": [
    "# pd.DataFrame(confusion_matrix(test_y, predictions_nb))"
   ]
  },
  {
   "cell_type": "code",
   "execution_count": 54,
   "metadata": {},
   "outputs": [],
   "source": [
    "instance = 'The funniest movie of all time!!! Jim carrey at his best! There is no better comedic duo.. i went to the theater w my dad when i was abt 13 years and it was just rib cracking fun! We laughed so hard we were in tears leaving the movie theater'"
   ]
  },
  {
   "cell_type": "code",
   "execution_count": 38,
   "metadata": {},
   "outputs": [],
   "source": [
    "#instance"
   ]
  },
  {
   "cell_type": "code",
   "execution_count": 55,
   "metadata": {},
   "outputs": [],
   "source": [
    "instance = vectorizer.transform([instance])"
   ]
  },
  {
   "cell_type": "code",
   "execution_count": 56,
   "metadata": {},
   "outputs": [
    {
     "name": "stdout",
     "output_type": "stream",
     "text": [
      "label: 1 \n",
      "proba: 0.537\n"
     ]
    }
   ],
   "source": [
    "#idx = 290\n",
    "#instance = test_vectors[idx]\n",
    "label = rf.predict(instance)[0]\n",
    "print('label:', label, '\\nproba:', rf.predict_proba(instance)[0][label])"
   ]
  },
  {
   "cell_type": "code",
   "execution_count": 43,
   "metadata": {},
   "outputs": [],
   "source": [
    "#df_movies[df_movies['sentiment'] == 1]['text'][1500+idx]"
   ]
  },
  {
   "cell_type": "code",
   "execution_count": 57,
   "metadata": {},
   "outputs": [
    {
     "data": {
      "text/plain": [
       "array([[0.463, 0.537]])"
      ]
     },
     "execution_count": 57,
     "metadata": {},
     "output_type": "execute_result"
    }
   ],
   "source": [
    "rf.predict_proba(instance)"
   ]
  },
  {
   "cell_type": "code",
   "execution_count": 58,
   "metadata": {},
   "outputs": [],
   "source": [
    "explainer = text_processing.TextExplainer(distance='cosine', kernel_width=3, random_state=42)"
   ]
  },
  {
   "cell_type": "code",
   "execution_count": 59,
   "metadata": {},
   "outputs": [],
   "source": [
    "explanation = explainer.explain_prediction(instance, label, np.array(vectorizer.get_feature_names()), \n",
    "                                           rf, num_features=6, num_samples=1000)#, random_seed=42)"
   ]
  },
  {
   "cell_type": "code",
   "execution_count": 60,
   "metadata": {},
   "outputs": [
    {
     "data": {
      "text/plain": [
       "[('better', -0.019316799585215837),\n",
       " ('years', 0.016782802157654222),\n",
       " ('time', 0.01606313159476079),\n",
       " ('best', 0.015640220185921178),\n",
       " ('hard', -0.01186414182023576),\n",
       " ('fun', 0.00983581834785064)]"
      ]
     },
     "execution_count": 60,
     "metadata": {},
     "output_type": "execute_result"
    }
   ],
   "source": [
    "explanation.local_explanation"
   ]
  },
  {
   "cell_type": "code",
   "execution_count": 61,
   "metadata": {},
   "outputs": [
    {
     "data": {
      "text/plain": [
       "0.8678692624459703"
      ]
     },
     "execution_count": 61,
     "metadata": {},
     "output_type": "execute_result"
    }
   ],
   "source": [
    "explanation.score"
   ]
  },
  {
   "cell_type": "code",
   "execution_count": 62,
   "metadata": {},
   "outputs": [],
   "source": [
    "%matplotlib inline"
   ]
  },
  {
   "cell_type": "code",
   "execution_count": 63,
   "metadata": {},
   "outputs": [
    {
     "data": {
      "image/png": "[encoded data removed]",
      "text/plain": [
       "<Figure size 432x288 with 1 Axes>"
      ]
     },
     "metadata": {
      "needs_background": "light"
     },
     "output_type": "display_data"
    }
   ],
   "source": [
    "explanation.as_figure(movie_classes[label])"
   ]
  },
  {
   "cell_type": "code",
   "execution_count": null,
   "metadata": {},
   "outputs": [],
   "source": [
    "score_mass_samples = []\n",
    "for i in range(500, 5001, 500):    \n",
    "    explanation = explainer.explain_prediction(instance, label, np.array(vectorizer.get_feature_names()), \n",
    "                                               rf, num_features=6, num_samples=i)#, random_seed=42)\n",
    "    score_mass_samples.append(explanation.score)"
   ]
  },
  {
   "cell_type": "code",
   "execution_count": null,
   "metadata": {},
   "outputs": [],
   "source": [
    "score_mass_kernels = []\n",
    "for i in [0.25, 0.5, 0.75, 1.25, 3., 5., 10., 15., 20.]:\n",
    "    explainer = text_processing.TextExplainer(distance='cosine', kernel_width=i)\n",
    "    explanation = explainer.explain_prediction(instance, label, np.array(vectorizer.get_feature_names()), \n",
    "                                               rf, num_features=6, num_samples=1000)#, random_seed=42)\n",
    "    score_mass_kernels.append(explanation.score)"
   ]
  },
  {
   "cell_type": "code",
   "execution_count": 131,
   "metadata": {},
   "outputs": [
    {
     "data": {
      "image/png": "[encoded data removed]",
      "text/plain": [
       "<Figure size 432x288 with 1 Axes>"
      ]
     },
     "metadata": {
      "needs_background": "light"
     },
     "output_type": "display_data"
    }
   ],
   "source": [
    "fig = plt.figure(figsize=(10, 6))\n",
    "plt.rcParams.update({'font.size': 18})\n",
    "\n",
    "plt.xlabel('number of samples')\n",
    "plt.ylabel('r2 score')\n",
    "plt.grid(color='grey', linestyle='--', linewidth=0.5)\n",
    "plt.plot(np.arange(500, 5001, 500), score_mass_samples, 'bo-')#, label = 'with hide color')\n",
    "plt.title('Score vs. number of samples')\n",
    "#plt.legend()"
   ]
  },
  {
   "cell_type": "code",
   "execution_count": null,
   "metadata": {},
   "outputs": [],
   "source": [
    "fig = plt.figure(figsize=(10, 6))\n",
    "plt.rcParams.update({'font.size': 18})\n",
    "\n",
    "plt.xlabel('kernel width')\n",
    "plt.ylabel('r2 score')\n",
    "plt.grid(color='grey', linestyle='--', linewidth=0.5)\n",
    "plt.plot(np.array([0.25, 0.5, 0.75, 1.25, 3., 5., 10., 15., 20.]), score_mass_kernels, 'bo-')#, label = 'with hide color')\n",
    "plt.title('Score vs. kernel width')\n",
    "#plt.legend()"
   ]
  }
 ],
 "metadata": {
  "kernelspec": {
   "display_name": "Python 3",
   "language": "python",
   "name": "python3"
  },
  "language_info": {
   "codemirror_mode": {
    "name": "ipython",
    "version": 3
   },
   "file_extension": ".py",
   "mimetype": "text/x-python",
   "name": "python",
   "nbconvert_exporter": "python",
   "pygments_lexer": "ipython3",
   "version": "3.7.0"
  }
 },
 "nbformat": 4,
 "nbformat_minor": 2
}
